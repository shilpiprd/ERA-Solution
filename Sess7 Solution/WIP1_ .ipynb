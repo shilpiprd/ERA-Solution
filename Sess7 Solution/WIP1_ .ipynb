{
  "cells": [
    {
      "cell_type": "code",
      "execution_count": null,
      "metadata": {
        "id": "p-pinROMPFln"
      },
      "outputs": [],
      "source": [
        "from __future__ import print_function\n",
        "import torch\n",
        "import torch.nn as nn\n",
        "import torch.nn.functional as F\n",
        "import torch.optim as optim\n",
        "from torchvision import datasets, transforms"
      ]
    },
    {
      "cell_type": "code",
      "execution_count": null,
      "metadata": {
        "colab": {
          "base_uri": "https://localhost:8080/"
        },
        "id": "Ezv0GsCtPY_o",
        "outputId": "90ced56f-05f2-4bd1-e555-fd636df6c27d"
      },
      "outputs": [
        {
          "output_type": "stream",
          "name": "stdout",
          "text": [
            "----------------------------------------------------------------\n",
            "        Layer (type)               Output Shape         Param #\n",
            "================================================================\n",
            "            Conv2d-1           [-1, 10, 28, 28]              90\n",
            "              ReLU-2           [-1, 10, 28, 28]               0\n",
            "       BatchNorm2d-3           [-1, 10, 28, 28]              20\n",
            "           Dropout-4           [-1, 10, 28, 28]               0\n",
            "            Conv2d-5           [-1, 16, 28, 28]           1,440\n",
            "              ReLU-6           [-1, 16, 28, 28]               0\n",
            "       BatchNorm2d-7           [-1, 16, 28, 28]              32\n",
            "           Dropout-8           [-1, 16, 28, 28]               0\n",
            "            Conv2d-9           [-1, 10, 28, 28]             160\n",
            "        MaxPool2d-10           [-1, 10, 14, 14]               0\n",
            "           Conv2d-11           [-1, 16, 12, 12]           1,440\n",
            "             ReLU-12           [-1, 16, 12, 12]               0\n",
            "      BatchNorm2d-13           [-1, 16, 12, 12]              32\n",
            "          Dropout-14           [-1, 16, 12, 12]               0\n",
            "        MaxPool2d-15             [-1, 16, 6, 6]               0\n",
            "           Conv2d-16             [-1, 16, 4, 4]           2,304\n",
            "             ReLU-17             [-1, 16, 4, 4]               0\n",
            "      BatchNorm2d-18             [-1, 16, 4, 4]              32\n",
            "          Dropout-19             [-1, 16, 4, 4]               0\n",
            "           Conv2d-20             [-1, 16, 4, 4]             256\n",
            "             ReLU-21             [-1, 16, 4, 4]               0\n",
            "      BatchNorm2d-22             [-1, 16, 4, 4]              32\n",
            "          Dropout-23             [-1, 16, 4, 4]               0\n",
            "           Conv2d-24             [-1, 10, 4, 4]             160\n",
            "             ReLU-25             [-1, 10, 4, 4]               0\n",
            "      BatchNorm2d-26             [-1, 10, 4, 4]              20\n",
            "          Dropout-27             [-1, 10, 4, 4]               0\n",
            "AdaptiveAvgPool2d-28             [-1, 10, 1, 1]               0\n",
            "           Conv2d-29             [-1, 10, 1, 1]             100\n",
            "             ReLU-30             [-1, 10, 1, 1]               0\n",
            "      BatchNorm2d-31             [-1, 10, 1, 1]              20\n",
            "          Dropout-32             [-1, 10, 1, 1]               0\n",
            "           Conv2d-33             [-1, 10, 1, 1]             100\n",
            "             ReLU-34             [-1, 10, 1, 1]               0\n",
            "      BatchNorm2d-35             [-1, 10, 1, 1]              20\n",
            "          Dropout-36             [-1, 10, 1, 1]               0\n",
            "================================================================\n",
            "Total params: 6,258\n",
            "Trainable params: 6,258\n",
            "Non-trainable params: 0\n",
            "----------------------------------------------------------------\n",
            "Input size (MB): 0.00\n",
            "Forward/backward pass size (MB): 0.79\n",
            "Params size (MB): 0.02\n",
            "Estimated Total Size (MB): 0.82\n",
            "----------------------------------------------------------------\n"
          ]
        },
        {
          "output_type": "stream",
          "name": "stderr",
          "text": [
            "<ipython-input-6-1947fbb0cd8d>:99: UserWarning: Implicit dimension choice for log_softmax has been deprecated. Change the call to include dim=X as an argument.\n",
            "  return F.log_softmax(x)\n"
          ]
        }
      ],
      "source": [
        "#dealing with mnist, 10 output channels requireed minm\n",
        "from torchsummary import summary\n",
        "\n",
        "class Net(nn.Module):\n",
        "    def __init__(self):\n",
        "        super(Net, self).__init__()\n",
        "        #28x28 (initially)\n",
        "        #target rf ~ 28\n",
        "\n",
        "        self.conv1 = nn.Sequential(  #26, rf = 3\n",
        "            nn.Conv2d(1, 10, 3, padding=1, stride = 1, bias = False), #input -?(28) OUtput? = (28) RF = (3)\n",
        "            nn.ReLU(),\n",
        "            nn.BatchNorm2d(10),\n",
        "            nn.Dropout(0.03)\n",
        "        )\n",
        "\n",
        "        self.extra1 = nn.Sequential(  #26, rf = 3\n",
        "            nn.Conv2d(10, 16, 3, padding=1, stride = 1, bias = False), #input -?(28) OUtput? = (28) RF = (3)\n",
        "            nn.ReLU(),\n",
        "            nn.BatchNorm2d(16),\n",
        "            nn.Dropout(0.03)\n",
        "        )\n",
        "        ### TRANSITION BLOCK\n",
        "        self.tb = nn.Sequential( #14\n",
        "            nn.Conv2d(16, 10, 1, padding = 0, stride = 1, bias = False) #size = 11 , rf = 8\n",
        "        )\n",
        "        self.pool1 = nn.MaxPool2d(2,2)\n",
        "\n",
        "        self.conv2 = nn.Sequential(\n",
        "            nn.Conv2d(10, 16, 3, padding = 0 , stride = 1, bias = False),\n",
        "            nn.ReLU(),\n",
        "            nn.BatchNorm2d(16),\n",
        "            nn.Dropout(0.03)\n",
        "            )\n",
        "\n",
        "        self.conv3 = nn.Sequential( #size 3\n",
        "            nn.Conv2d(16, 16, 3, padding = 0 , stride = 1, bias = False),\n",
        "            nn.ReLU(),\n",
        "            nn.BatchNorm2d(16),\n",
        "            nn.Dropout(0.03)\n",
        "        )\n",
        "        self.pool2 = nn.MaxPool2d(2,2) #@ rf 10\n",
        "\n",
        "        self.conv4 = nn.Sequential( #size 1\n",
        "            nn.Conv2d(16, 16, 3, padding = 0 , stride = 1, bias = False),\n",
        "            nn.ReLU(),\n",
        "            nn.BatchNorm2d(16),\n",
        "            nn.Dropout(0.03)\n",
        "        )\n",
        "\n",
        "        self.extra2 = nn.Sequential( #size 1\n",
        "            nn.Conv2d(16, 16, 1, padding = 0 , stride = 1, bias = False),\n",
        "            nn.ReLU(),\n",
        "            nn.BatchNorm2d(16),\n",
        "            nn.Dropout(0.03)\n",
        "        )\n",
        "\n",
        "        self.conv5 = nn.Sequential(\n",
        "            nn.Conv2d(16, 10, 1, padding = 0 , stride = 1, bias = False),\n",
        "            nn.ReLU(),\n",
        "            nn.BatchNorm2d(10),\n",
        "            nn.Dropout(0.03)\n",
        "        )\n",
        "\n",
        "        self.adp = nn.AdaptiveAvgPool2d(1)\n",
        "\n",
        "        self.conv6 = nn.Sequential(\n",
        "            nn.Conv2d(10, 10, 1, padding = 0, stride = 1, bias = False),\n",
        "            nn.ReLU(),\n",
        "            nn.BatchNorm2d(10),\n",
        "            nn.Dropout(0.03)\n",
        "        )\n",
        "        self.extra3 = nn.Sequential(\n",
        "            nn.Conv2d(10, 10, 1, padding = 0, stride = 1, bias = False),\n",
        "            nn.ReLU(),\n",
        "            nn.BatchNorm2d(10),\n",
        "            nn.Dropout(0.03)\n",
        "        )\n",
        "\n",
        "\n",
        "    def forward(self, x):\n",
        "\n",
        "        x = self.conv1(x)\n",
        "        x = self.extra1(x)\n",
        "        x = self.tb(x)\n",
        "        x = self.pool1(x)\n",
        "        x = self.conv2(x)\n",
        "        # x = self.conv3(x)\n",
        "        x = self.pool2(x)\n",
        "        x = self.conv4(x)\n",
        "        x = self.extra2(x)\n",
        "        x = self.conv5(x)\n",
        "        # print(\"Conv5, \", x.shape)\n",
        "        x = self.adp(x)\n",
        "        x = self.conv6(x) #2 10 1 1\n",
        "        x = self.extra3(x)\n",
        "        # print(\"Conv6, \", x.shape)\n",
        "        x = x.view(x.size(0), -1)\n",
        "        return F.log_softmax(x)\n",
        "\n",
        "#CB2\n",
        "use_cuda = torch.cuda.is_available()\n",
        "device = torch.device(\"cuda\" if use_cuda else \"cpu\")\n",
        "model = Net().to(device)\n",
        "summary(model, input_size=(1, 28, 28))"
      ]
    },
    {
      "cell_type": "code",
      "execution_count": null,
      "metadata": {
        "colab": {
          "base_uri": "https://localhost:8080/"
        },
        "id": "J08yNObQNA81",
        "outputId": "9c470703-4106-4bd8-d585-449e858aff01"
      },
      "outputs": [
        {
          "output_type": "stream",
          "name": "stdout",
          "text": [
            "EPOCH: 1\n"
          ]
        },
        {
          "output_type": "stream",
          "name": "stderr",
          "text": [
            "  0%|          | 0/469 [00:00<?, ?it/s]<ipython-input-6-1947fbb0cd8d>:99: UserWarning: Implicit dimension choice for log_softmax has been deprecated. Change the call to include dim=X as an argument.\n",
            "  return F.log_softmax(x)\n",
            "Loss=0.17869937419891357 Batch_id=468 Accuracy=87.14: 100%|██████████| 469/469 [00:19<00:00, 23.46it/s]\n"
          ]
        },
        {
          "output_type": "stream",
          "name": "stdout",
          "text": [
            "\n",
            "Test set: Average loss: 0.1003, Accuracy: 9759/10000 (98%)\n",
            "\n",
            "EPOCH: 2\n"
          ]
        },
        {
          "output_type": "stream",
          "name": "stderr",
          "text": [
            "Loss=0.12769021093845367 Batch_id=468 Accuracy=95.04: 100%|██████████| 469/469 [00:20<00:00, 23.22it/s]\n"
          ]
        },
        {
          "output_type": "stream",
          "name": "stdout",
          "text": [
            "\n",
            "Test set: Average loss: 0.0738, Accuracy: 9801/10000 (98%)\n",
            "\n",
            "EPOCH: 3\n"
          ]
        },
        {
          "output_type": "stream",
          "name": "stderr",
          "text": [
            "Loss=0.16700215637683868 Batch_id=468 Accuracy=95.89: 100%|██████████| 469/469 [00:19<00:00, 24.48it/s]\n"
          ]
        },
        {
          "output_type": "stream",
          "name": "stdout",
          "text": [
            "\n",
            "Test set: Average loss: 0.0585, Accuracy: 9843/10000 (98%)\n",
            "\n",
            "EPOCH: 4\n"
          ]
        },
        {
          "output_type": "stream",
          "name": "stderr",
          "text": [
            "Loss=0.1921669840812683 Batch_id=468 Accuracy=96.41: 100%|██████████| 469/469 [00:20<00:00, 23.38it/s]\n"
          ]
        },
        {
          "output_type": "stream",
          "name": "stdout",
          "text": [
            "\n",
            "Test set: Average loss: 0.0456, Accuracy: 9870/10000 (99%)\n",
            "\n",
            "EPOCH: 5\n"
          ]
        },
        {
          "output_type": "stream",
          "name": "stderr",
          "text": [
            "Loss=0.18173319101333618 Batch_id=468 Accuracy=96.75: 100%|██████████| 469/469 [00:19<00:00, 24.35it/s]\n"
          ]
        },
        {
          "output_type": "stream",
          "name": "stdout",
          "text": [
            "\n",
            "Test set: Average loss: 0.0423, Accuracy: 9888/10000 (99%)\n",
            "\n",
            "EPOCH: 6\n"
          ]
        },
        {
          "output_type": "stream",
          "name": "stderr",
          "text": [
            "Loss=0.014054023660719395 Batch_id=468 Accuracy=96.97: 100%|██████████| 469/469 [00:19<00:00, 24.42it/s]\n"
          ]
        },
        {
          "output_type": "stream",
          "name": "stdout",
          "text": [
            "\n",
            "Test set: Average loss: 0.0409, Accuracy: 9891/10000 (99%)\n",
            "\n",
            "EPOCH: 7\n"
          ]
        },
        {
          "output_type": "stream",
          "name": "stderr",
          "text": [
            "Loss=0.15708370506763458 Batch_id=468 Accuracy=97.20: 100%|██████████| 469/469 [00:20<00:00, 23.18it/s]\n"
          ]
        },
        {
          "output_type": "stream",
          "name": "stdout",
          "text": [
            "\n",
            "Test set: Average loss: 0.0413, Accuracy: 9878/10000 (99%)\n",
            "\n",
            "EPOCH: 8\n"
          ]
        },
        {
          "output_type": "stream",
          "name": "stderr",
          "text": [
            "Loss=0.10583499819040298 Batch_id=468 Accuracy=97.43: 100%|██████████| 469/469 [00:19<00:00, 23.95it/s]\n"
          ]
        },
        {
          "output_type": "stream",
          "name": "stdout",
          "text": [
            "\n",
            "Test set: Average loss: 0.0407, Accuracy: 9884/10000 (99%)\n",
            "\n",
            "EPOCH: 9\n"
          ]
        },
        {
          "output_type": "stream",
          "name": "stderr",
          "text": [
            "Loss=0.11353782564401627 Batch_id=468 Accuracy=97.42: 100%|██████████| 469/469 [00:19<00:00, 24.16it/s]\n"
          ]
        },
        {
          "output_type": "stream",
          "name": "stdout",
          "text": [
            "\n",
            "Test set: Average loss: 0.0413, Accuracy: 9881/10000 (99%)\n",
            "\n",
            "EPOCH: 10\n"
          ]
        },
        {
          "output_type": "stream",
          "name": "stderr",
          "text": [
            "Loss=0.027554482221603394 Batch_id=468 Accuracy=97.55: 100%|██████████| 469/469 [00:20<00:00, 23.08it/s]\n"
          ]
        },
        {
          "output_type": "stream",
          "name": "stdout",
          "text": [
            "\n",
            "Test set: Average loss: 0.0404, Accuracy: 9884/10000 (99%)\n",
            "\n",
            "EPOCH: 11\n"
          ]
        },
        {
          "output_type": "stream",
          "name": "stderr",
          "text": [
            "Loss=0.10264206677675247 Batch_id=468 Accuracy=97.75: 100%|██████████| 469/469 [00:19<00:00, 23.47it/s]\n"
          ]
        },
        {
          "output_type": "stream",
          "name": "stdout",
          "text": [
            "\n",
            "Test set: Average loss: 0.0332, Accuracy: 9907/10000 (99%)\n",
            "\n",
            "EPOCH: 12\n"
          ]
        },
        {
          "output_type": "stream",
          "name": "stderr",
          "text": [
            "Loss=0.1206008568406105 Batch_id=468 Accuracy=97.76: 100%|██████████| 469/469 [00:19<00:00, 24.11it/s]\n"
          ]
        },
        {
          "output_type": "stream",
          "name": "stdout",
          "text": [
            "\n",
            "Test set: Average loss: 0.0360, Accuracy: 9898/10000 (99%)\n",
            "\n",
            "EPOCH: 13\n"
          ]
        },
        {
          "output_type": "stream",
          "name": "stderr",
          "text": [
            "Loss=0.08233848959207535 Batch_id=468 Accuracy=97.83: 100%|██████████| 469/469 [00:20<00:00, 23.36it/s]\n"
          ]
        },
        {
          "output_type": "stream",
          "name": "stdout",
          "text": [
            "\n",
            "Test set: Average loss: 0.0361, Accuracy: 9896/10000 (99%)\n",
            "\n",
            "EPOCH: 14\n"
          ]
        },
        {
          "output_type": "stream",
          "name": "stderr",
          "text": [
            "Loss=0.12123358994722366 Batch_id=468 Accuracy=97.86: 100%|██████████| 469/469 [00:19<00:00, 24.10it/s]\n"
          ]
        },
        {
          "output_type": "stream",
          "name": "stdout",
          "text": [
            "\n",
            "Test set: Average loss: 0.0341, Accuracy: 9897/10000 (99%)\n",
            "\n",
            "EPOCH: 15\n"
          ]
        },
        {
          "output_type": "stream",
          "name": "stderr",
          "text": [
            "Loss=0.05803273245692253 Batch_id=468 Accuracy=98.05: 100%|██████████| 469/469 [00:19<00:00, 24.38it/s]\n"
          ]
        },
        {
          "output_type": "stream",
          "name": "stdout",
          "text": [
            "\n",
            "Test set: Average loss: 0.0343, Accuracy: 9899/10000 (99%)\n",
            "\n"
          ]
        }
      ],
      "source": [
        "from tqdm import tqdm\n",
        "from torch.optim.lr_scheduler import ReduceLROnPlateau\n",
        "torch.manual_seed(1)\n",
        "batch_size = 128\n",
        "\n",
        "\n",
        "kwargs = {'num_workers': 1, 'pin_memory': True} if use_cuda else {}\n",
        "train_loader = torch.utils.data.DataLoader(\n",
        "    datasets.MNIST('../data', train=True, download=True,\n",
        "                    transform=transforms.Compose([\n",
        "                        # transforms.RandomRotation((-7.0, 7.0), fill=(1,)),  #adding iamge augmentation\n",
        "                        transforms.ToTensor(),\n",
        "                        transforms.Normalize((0.1307,), (0.3081,))\n",
        "                    ])),\n",
        "    batch_size=batch_size, shuffle=True, **kwargs)\n",
        "test_loader = torch.utils.data.DataLoader(\n",
        "    datasets.MNIST('../data', train=False, transform=transforms.Compose([\n",
        "                        transforms.ToTensor(),\n",
        "                        transforms.Normalize((0.1307,), (0.3081,))\n",
        "                    ])),\n",
        "    batch_size=batch_size, shuffle=True, **kwargs)\n",
        "def train(model, device, train_loader, optimizer, epoch):\n",
        "    model.train()\n",
        "    pbar = tqdm(train_loader)\n",
        "    correct = 0\n",
        "    processed = 0\n",
        "    for batch_idx, (data, target) in enumerate(pbar):\n",
        "        data, target = data.to(device), target.to(device)\n",
        "        optimizer.zero_grad()\n",
        "        output = model(data)\n",
        "        loss = F.nll_loss(output, target)\n",
        "        loss.backward()\n",
        "        optimizer.step()\n",
        "        # pbar.set_description(desc= f'loss={loss.item()} batch_id={batch_idx}')\n",
        "        y_pred = model(data)\n",
        "        pred = y_pred.argmax(dim=1, keepdim=True)\n",
        "        correct += pred.eq(target.view_as(pred)).sum().item()\n",
        "        processed += len(data)\n",
        "        pbar.set_description(desc= f'Loss={loss.item()} Batch_id={batch_idx} Accuracy={100*correct/processed:0.2f}')\n",
        "\n",
        "\n",
        "def test(model, device, test_loader):\n",
        "    model.eval()\n",
        "    test_loss = 0\n",
        "    correct = 0\n",
        "    with torch.no_grad():\n",
        "        for data, target in test_loader:\n",
        "            data, target = data.to(device), target.to(device)\n",
        "            output = model(data)\n",
        "            test_loss += F.nll_loss(output, target, reduction='sum').item()  # sum up batch loss\n",
        "            pred = output.argmax(dim=1, keepdim=True)  # get the index of the max log-probability\n",
        "            correct += pred.eq(target.view_as(pred)).sum().item()\n",
        "\n",
        "    test_loss /= len(test_loader.dataset)\n",
        "    Accuracy = 100. * correct / len(test_loader.dataset)\n",
        "    print('\\nTest set: Average loss: {:.4f}, Accuracy: {}/{} ({:.0f}%)\\n'.format(\n",
        "        test_loss, correct, len(test_loader.dataset),\n",
        "        100. * correct / len(test_loader.dataset)))\n",
        "    return Accuracy\n",
        "\n",
        "model = Net().to(device)\n",
        "optimizer = optim.SGD(model.parameters(), lr=0.01, momentum=0.9)\n",
        "scheduler = ReduceLROnPlateau(optimizer, 'max', patience = 7)\n",
        "\n",
        "for epoch in range(1, 16):\n",
        "    print(\"EPOCH:\", epoch)\n",
        "    train(model, device, train_loader, optimizer, epoch)\n",
        "    test_accuracy = test(model, device, test_loader)\n",
        "    scheduler.step(test_accuracy)"
      ]
    }
  ],
  "metadata": {
    "accelerator": "GPU",
    "colab": {
      "gpuType": "T4",
      "provenance": []
    },
    "kernelspec": {
      "display_name": "Python 3",
      "name": "python3"
    },
    "language_info": {
      "name": "python"
    }
  },
  "nbformat": 4,
  "nbformat_minor": 0
}