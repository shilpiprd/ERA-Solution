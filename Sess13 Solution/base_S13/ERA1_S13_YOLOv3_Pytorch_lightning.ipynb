{
  "cells": [
    {
      "cell_type": "markdown",
      "metadata": {
        "id": "YCT0nsCfRrDj"
      },
      "source": [
        "# Load Models & Modules"
      ]
    },
    {
      "cell_type": "code",
      "execution_count": null,
      "metadata": {
        "id": "RhtLbYq4RuNh"
      },
      "outputs": [],
      "source": [
        "%load_ext autoreload\n",
        "%autoreload 2"
      ]
    },
    {
      "cell_type": "code",
      "execution_count": null,
      "metadata": {
        "colab": {
          "base_uri": "https://localhost:8080/"
        },
        "id": "PXRjP8RIRvZv",
        "outputId": "b580ee56-5fc8-4b71-bd84-d3fad472acfc"
      },
      "outputs": [
        {
          "name": "stdout",
          "output_type": "stream",
          "text": [
            "Loaded Modules and Models\n",
            "\u001b[33mWARNING: Running pip as the 'root' user can result in broken permissions and conflicting behaviour with the system package manager. It is recommended to use a virtual environment instead: https://pip.pypa.io/warnings/venv\u001b[0m\u001b[33m\n",
            "\u001b[0m"
          ]
        }
      ],
      "source": [
        "# Future print function\n",
        "from __future__ import print_function\n",
        "\n",
        "# Load modules/models from EVA course\n",
        "!git clone https://github.com/sujitojha1/ERA1 -q --quiet\n",
        "!mv ERA1/Session13/* .\n",
        "!rm -rf ERA1\n",
        "\n",
        "print(\"Loaded Modules and Models\")\n",
        "\n",
        "# Installing latest Albumentation library\n",
        "!pip install -U git+https://github.com/albu/albumentations -q --quiet\n",
        "!pip install torch-lr-finder -q --quiet\n",
        "!pip install grad-cam -q --quiet\n",
        "!pip install --quiet \"pandas\" \"ipython[notebook]\" \"seaborn\" \"torchmetrics\" \"lightning-bolts\" \"lightning\" \"kaggle\"\n",
        "\n",
        "# For inline matplotlib plotting\n",
        "%matplotlib inline"
      ]
    },
    {
      "cell_type": "code",
      "execution_count": null,
      "metadata": {
        "id": "uS0INnGvLXWK"
      },
      "outputs": [],
      "source": [
        "!mkdir ~/.kaggle\n",
        "!touch ~/.kaggle/kaggle.json\n",
        "\n",
        "api_token = {\"username\":\"kanha83\",\"key\":\"xxx\"}\n",
        "\n",
        "import json\n",
        "\n",
        "with open('/root/.kaggle/kaggle.json', 'w') as file:\n",
        "    json.dump(api_token, file)\n",
        "\n",
        "!chmod 600 ~/.kaggle/kaggle.json"
      ]
    },
    {
      "cell_type": "code",
      "execution_count": 15,
      "metadata": {
        "colab": {
          "base_uri": "https://localhost:8080/"
        },
        "id": "lc2Sa10CJjAN",
        "outputId": "a0fe2619-4b4c-499b-d9ab-8f2760ce7c21"
      },
      "outputs": [
        {
          "output_type": "stream",
          "name": "stdout",
          "text": [
            "Traceback (most recent call last):\n",
            "  File \"/usr/local/bin/kaggle\", line 5, in <module>\n",
            "    from kaggle.cli import main\n",
            "  File \"/usr/local/lib/python3.10/dist-packages/kaggle/__init__.py\", line 23, in <module>\n",
            "    api.authenticate()\n",
            "  File \"/usr/local/lib/python3.10/dist-packages/kaggle/api/kaggle_api_extended.py\", line 403, in authenticate\n",
            "    raise IOError('Could not find {}. Make sure it\\'s located in'\n",
            "OSError: Could not find kaggle.json. Make sure it's located in /root/.kaggle. Or use the environment method.\n"
          ]
        }
      ],
      "source": [
        "!kaggle datasets download -d aladdinpersson/pascal-voc-dataset-used-in-yolov3-video"
      ]
    },
    {
      "cell_type": "code",
      "execution_count": 14,
      "metadata": {
        "id": "jGwCJGZXNHn5",
        "colab": {
          "base_uri": "https://localhost:8080/"
        },
        "outputId": "e749ca58-3160-4621-c3d7-65f7b22b590c"
      },
      "outputs": [
        {
          "output_type": "stream",
          "name": "stdout",
          "text": [
            "unzip:  cannot find or open pascal-voc-dataset-used-in-yolov3-video.zip, pascal-voc-dataset-used-in-yolov3-video.zip.zip or pascal-voc-dataset-used-in-yolov3-video.zip.ZIP.\n"
          ]
        }
      ],
      "source": [
        "!unzip -qq pascal-voc-dataset-used-in-yolov3-video.zip\n",
        "!rm -rf pascal-voc-dataset-used-in-yolov3-video.zip"
      ]
    },
    {
      "cell_type": "markdown",
      "metadata": {
        "id": "Aj3-2nelSDL1"
      },
      "source": [
        "# Loading train and test data with transforms and loader functions"
      ]
    },
    {
      "cell_type": "code",
      "source": [
        "!git clone 'https://github.com/shilpiprd/ERA-Solution.git'\n",
        "%cd ERA-Solution/Sess13\\ Solution/base_S13/\n",
        "\n",
        "print(\"Downloading libraries: \")\n",
        "! pip install pytorch-lightning -q --quiet\n",
        "! pip install torch-lr-finder -q --quiet\n",
        "! pip install torchvision -q --quiet\n",
        "\n",
        "print(\"Modules and Models loaded: \")\n",
        "!mkdir -p ~/.kaggle\n",
        "!cp kaggle.json ~/.kaggle/\n",
        "!chmod 600 ~/.kaggle/kaggle.json\n",
        "# Now you can use kaggle commands to download datasets\n"
      ],
      "metadata": {
        "colab": {
          "base_uri": "https://localhost:8080/"
        },
        "id": "Vn_iIW_TdF2o",
        "outputId": "d24bc423-8b00-49d5-97f7-09952722cfa5"
      },
      "execution_count": 1,
      "outputs": [
        {
          "output_type": "stream",
          "name": "stdout",
          "text": [
            "Cloning into 'ERA-Solution'...\n",
            "remote: Enumerating objects: 372, done.\u001b[K\n",
            "remote: Counting objects: 100% (150/150), done.\u001b[K\n",
            "remote: Compressing objects: 100% (120/120), done.\u001b[K\n",
            "remote: Total 372 (delta 29), reused 145 (delta 24), pack-reused 222\u001b[K\n",
            "Receiving objects: 100% (372/372), 189.10 MiB | 24.73 MiB/s, done.\n",
            "Resolving deltas: 100% (120/120), done.\n",
            "Updating files: 100% (286/286), done.\n",
            "/content/ERA-Solution/Sess13 Solution/base_S13\n",
            "Downloading libraries: \n",
            "\u001b[2K     \u001b[90m━━━━━━━━━━━━━━━━━━━━━━━━━━━━━━━━━━━━━━━━\u001b[0m \u001b[32m800.3/800.3 kB\u001b[0m \u001b[31m10.3 MB/s\u001b[0m eta \u001b[36m0:00:00\u001b[0m\n",
            "\u001b[2K     \u001b[90m━━━━━━━━━━━━━━━━━━━━━━━━━━━━━━━━━━━━━━━━\u001b[0m \u001b[32m840.2/840.2 kB\u001b[0m \u001b[31m17.0 MB/s\u001b[0m eta \u001b[36m0:00:00\u001b[0m\n",
            "\u001b[?25hModules and Models loaded: \n"
          ]
        }
      ]
    },
    {
      "cell_type": "code",
      "source": [
        "!kaggle datasets download -d aladdinpersson/pascal-voc-yolo-works-with-albumentations"
      ],
      "metadata": {
        "colab": {
          "base_uri": "https://localhost:8080/"
        },
        "id": "n6L4Q8LA6UDa",
        "outputId": "8033eb3e-e0c5-4104-a78d-13ecfad558a1"
      },
      "execution_count": 2,
      "outputs": [
        {
          "output_type": "stream",
          "name": "stdout",
          "text": [
            "Downloading pascal-voc-yolo-works-with-albumentations.zip to /content/ERA-Solution/Sess13 Solution/base_S13\n",
            "100% 4.29G/4.31G [00:45<00:00, 169MB/s]\n",
            "100% 4.31G/4.31G [00:45<00:00, 101MB/s]\n"
          ]
        }
      ]
    },
    {
      "cell_type": "code",
      "source": [
        "!unzip -qq pascal-voc-yolo-works-with-albumentations.zip"
      ],
      "metadata": {
        "id": "lGK1-4Xpck94"
      },
      "execution_count": 3,
      "outputs": []
    },
    {
      "cell_type": "code",
      "source": [
        "! ls"
      ],
      "metadata": {
        "colab": {
          "base_uri": "https://localhost:8080/"
        },
        "id": "P2Ypn-9JdUqV",
        "outputId": "baa0935d-7a37-4431-b0c6-bd1fe6432545"
      },
      "execution_count": 4,
      "outputs": [
        {
          "output_type": "stream",
          "name": "stdout",
          "text": [
            "config.py\t\t\t\t image.png    model.py\n",
            "dataloader.ipynb\t\t\t kaggle.json  PASCAL_VOC\n",
            "dataset_org.py\t\t\t\t loss_1_1.py  pascal-voc-yolo-works-with-albumentations.zip\n",
            "dataset.py\t\t\t\t loss.py      pl_detection.py\n",
            "ERA1_S13_YOLOv3_Pytorch_lightning.ipynb  main2.ipynb  train.py\n",
            "Exp3.ipynb\t\t\t\t main.ipynb   utils.py\n"
          ]
        }
      ]
    },
    {
      "cell_type": "code",
      "execution_count": 5,
      "metadata": {
        "id": "gCIvRPsI7Il-"
      },
      "outputs": [],
      "source": [
        "import warnings\n",
        "import config\n",
        "warnings.filterwarnings(\"ignore\")"
      ]
    },
    {
      "cell_type": "code",
      "execution_count": 8,
      "metadata": {
        "colab": {
          "base_uri": "https://localhost:8080/",
          "height": 309,
          "referenced_widgets": [
            "7105ad7bb1b448949604c8fb9b5b93d6",
            "b9dde96689f74059b885e2aeb150deb2",
            "a4e5bb935b8142b3a179ced68d563839",
            "89ea2489e205443e9e0efaac86392cff",
            "df11a92533c94fcda746b1e6be5a6752",
            "3005130f980c4ab7b2d5a085bb658261",
            "e33af82c818d4ed08135c4c59e41de85",
            "281b50c20b794959a823345319926b81",
            "6c0d445b92804a54afbd07e571961884",
            "b673a59de14c4dd596986723353a0322",
            "49606453771944c89203cc3b1401101c"
          ]
        },
        "id": "jAEyzU5wOr4M",
        "outputId": "f5915bdc-a2c8-4ac7-d77e-7e9b41a0cad6"
      },
      "outputs": [
        {
          "output_type": "stream",
          "name": "stderr",
          "text": [
            "INFO:pytorch_lightning.utilities.rank_zero:Using 16bit Automatic Mixed Precision (AMP)\n",
            "INFO:pytorch_lightning.utilities.rank_zero:GPU available: True (cuda), used: True\n",
            "INFO:pytorch_lightning.utilities.rank_zero:TPU available: False, using: 0 TPU cores\n",
            "INFO:pytorch_lightning.utilities.rank_zero:IPU available: False, using: 0 IPUs\n",
            "INFO:pytorch_lightning.utilities.rank_zero:HPU available: False, using: 0 HPUs\n",
            "INFO:pytorch_lightning.accelerators.cuda:LOCAL_RANK: 0 - CUDA_VISIBLE_DEVICES: [0]\n",
            "INFO:pytorch_lightning.callbacks.model_summary:\n",
            "  | Name  | Type   | Params\n",
            "---------------------------------\n",
            "0 | model | YOLOv3 | 61.6 M\n",
            "---------------------------------\n",
            "61.6 M    Trainable params\n",
            "0         Non-trainable params\n",
            "61.6 M    Total params\n",
            "246.506   Total estimated model params size (MB)\n"
          ]
        },
        {
          "output_type": "display_data",
          "data": {
            "text/plain": [
              "Training: |          | 0/? [00:00<?, ?it/s]"
            ],
            "application/vnd.jupyter.widget-view+json": {
              "version_major": 2,
              "version_minor": 0,
              "model_id": "7105ad7bb1b448949604c8fb9b5b93d6"
            }
          },
          "metadata": {}
        }
      ],
      "source": [
        "# from lightning import LightningModule, Trainer, seed_everything\n",
        "# from lightning.pytorch.callbacks import LearningRateMonitor\n",
        "# from lightning.pytorch.callbacks.progress import TQDMProgressBar\n",
        "# from lightning.pytorch.loggers import CSVLogger\n",
        "# from torch.optim.lr_scheduler import OneCycleLR\n",
        "# from torch.optim.swa_utils import AveragedModel, update_bn\n",
        "from pytorch_lightning import LightningModule, Trainer, seed_everything\n",
        "from pytorch_lightning.callbacks import LearningRateMonitor, ModelCheckpoint\n",
        "from pytorch_lightning.callbacks.progress import TQDMProgressBar\n",
        "from pytorch_lightning.loggers import CSVLogger\n",
        "from torch.optim.lr_scheduler import OneCycleLR\n",
        "\n",
        "from pl_detection import *\n",
        "\n",
        "model = LitYOLOv3()\n",
        "\n",
        "trainer = Trainer(\n",
        "    max_epochs=config.NUM_EPOCHS * 2 // 5,\n",
        "    precision=\"16-mixed\",\n",
        "    accelerator=\"auto\",\n",
        "    # devices=1 if torch.cuda.is_available() else None,  # limiting got iPython runs\n",
        "    devices = \"auto\",\n",
        "    logger=CSVLogger(save_dir=\"logs/\"),\n",
        "    callbacks=[LearningRateMonitor(logging_interval=\"step\"), TQDMProgressBar(refresh_rate=10)],\n",
        ")\n",
        "\n",
        "trainer.fit(model)"
      ]
    },
    {
      "cell_type": "code",
      "source": [
        "from google.colab import drive\n",
        "drive.mount('/content/drive')"
      ],
      "metadata": {
        "id": "T5XOZ58peV2l"
      },
      "execution_count": null,
      "outputs": []
    },
    {
      "cell_type": "code",
      "execution_count": null,
      "metadata": {
        "id": "wMULZJHVzKdU"
      },
      "outputs": [],
      "source": [
        "# from lightning.pytorch.tuner import Tuner\n",
        "\n",
        "# trainer_temp = Trainer(\n",
        "#     max_epochs=200,\n",
        "#     accelerator=\"auto\",\n",
        "#     devices=1 if torch.cuda.is_available() else None,  # limiting got iPython runs\n",
        "# )\n",
        "\n",
        "# # Create a Tuner\n",
        "# tuner = Tuner(trainer_temp)\n",
        "\n",
        "# # finds learning rate automatically\n",
        "# # sets hparams.lr or hparams.learning_rate to that learning rate\n",
        "# tuner.lr_find(model)"
      ]
    },
    {
      "cell_type": "code",
      "execution_count": null,
      "metadata": {
        "id": "C7TkeNAMdCRe"
      },
      "outputs": [],
      "source": [
        "torch.save(model.model.state_dict(), \"exp8_custom_yolo_v3.pt\")"
      ]
    },
    {
      "cell_type": "code",
      "execution_count": null,
      "metadata": {
        "id": "v0W6OIUbdCRf"
      },
      "outputs": [],
      "source": []
    }
  ],
  "metadata": {
    "accelerator": "GPU",
    "colab": {
      "provenance": [],
      "gpuType": "T4"
    },
    "kernelspec": {
      "display_name": "Python 3",
      "name": "python3"
    },
    "language_info": {
      "codemirror_mode": {
        "name": "ipython",
        "version": 3
      },
      "file_extension": ".py",
      "mimetype": "text/x-python",
      "name": "python",
      "nbconvert_exporter": "python",
      "pygments_lexer": "ipython3",
      "version": "3.9.16"
    },
    "widgets": {
      "application/vnd.jupyter.widget-state+json": {
        "7105ad7bb1b448949604c8fb9b5b93d6": {
          "model_module": "@jupyter-widgets/controls",
          "model_name": "HBoxModel",
          "model_module_version": "1.5.0",
          "state": {
            "_dom_classes": [],
            "_model_module": "@jupyter-widgets/controls",
            "_model_module_version": "1.5.0",
            "_model_name": "HBoxModel",
            "_view_count": null,
            "_view_module": "@jupyter-widgets/controls",
            "_view_module_version": "1.5.0",
            "_view_name": "HBoxView",
            "box_style": "",
            "children": [
              "IPY_MODEL_b9dde96689f74059b885e2aeb150deb2",
              "IPY_MODEL_a4e5bb935b8142b3a179ced68d563839",
              "IPY_MODEL_89ea2489e205443e9e0efaac86392cff"
            ],
            "layout": "IPY_MODEL_df11a92533c94fcda746b1e6be5a6752"
          }
        },
        "b9dde96689f74059b885e2aeb150deb2": {
          "model_module": "@jupyter-widgets/controls",
          "model_name": "HTMLModel",
          "model_module_version": "1.5.0",
          "state": {
            "_dom_classes": [],
            "_model_module": "@jupyter-widgets/controls",
            "_model_module_version": "1.5.0",
            "_model_name": "HTMLModel",
            "_view_count": null,
            "_view_module": "@jupyter-widgets/controls",
            "_view_module_version": "1.5.0",
            "_view_name": "HTMLView",
            "description": "",
            "description_tooltip": null,
            "layout": "IPY_MODEL_3005130f980c4ab7b2d5a085bb658261",
            "placeholder": "​",
            "style": "IPY_MODEL_e33af82c818d4ed08135c4c59e41de85",
            "value": "Epoch 1:  23%"
          }
        },
        "a4e5bb935b8142b3a179ced68d563839": {
          "model_module": "@jupyter-widgets/controls",
          "model_name": "FloatProgressModel",
          "model_module_version": "1.5.0",
          "state": {
            "_dom_classes": [],
            "_model_module": "@jupyter-widgets/controls",
            "_model_module_version": "1.5.0",
            "_model_name": "FloatProgressModel",
            "_view_count": null,
            "_view_module": "@jupyter-widgets/controls",
            "_view_module_version": "1.5.0",
            "_view_name": "ProgressView",
            "bar_style": "",
            "description": "",
            "description_tooltip": null,
            "layout": "IPY_MODEL_281b50c20b794959a823345319926b81",
            "max": 518,
            "min": 0,
            "orientation": "horizontal",
            "style": "IPY_MODEL_6c0d445b92804a54afbd07e571961884",
            "value": 120
          }
        },
        "89ea2489e205443e9e0efaac86392cff": {
          "model_module": "@jupyter-widgets/controls",
          "model_name": "HTMLModel",
          "model_module_version": "1.5.0",
          "state": {
            "_dom_classes": [],
            "_model_module": "@jupyter-widgets/controls",
            "_model_module_version": "1.5.0",
            "_model_name": "HTMLModel",
            "_view_count": null,
            "_view_module": "@jupyter-widgets/controls",
            "_view_module_version": "1.5.0",
            "_view_name": "HTMLView",
            "description": "",
            "description_tooltip": null,
            "layout": "IPY_MODEL_b673a59de14c4dd596986723353a0322",
            "placeholder": "​",
            "style": "IPY_MODEL_49606453771944c89203cc3b1401101c",
            "value": " 120/518 [02:24&lt;07:59,  0.83it/s, v_num=1, training loss=13.00, lr=0.000254]"
          }
        },
        "df11a92533c94fcda746b1e6be5a6752": {
          "model_module": "@jupyter-widgets/base",
          "model_name": "LayoutModel",
          "model_module_version": "1.2.0",
          "state": {
            "_model_module": "@jupyter-widgets/base",
            "_model_module_version": "1.2.0",
            "_model_name": "LayoutModel",
            "_view_count": null,
            "_view_module": "@jupyter-widgets/base",
            "_view_module_version": "1.2.0",
            "_view_name": "LayoutView",
            "align_content": null,
            "align_items": null,
            "align_self": null,
            "border": null,
            "bottom": null,
            "display": "inline-flex",
            "flex": null,
            "flex_flow": "row wrap",
            "grid_area": null,
            "grid_auto_columns": null,
            "grid_auto_flow": null,
            "grid_auto_rows": null,
            "grid_column": null,
            "grid_gap": null,
            "grid_row": null,
            "grid_template_areas": null,
            "grid_template_columns": null,
            "grid_template_rows": null,
            "height": null,
            "justify_content": null,
            "justify_items": null,
            "left": null,
            "margin": null,
            "max_height": null,
            "max_width": null,
            "min_height": null,
            "min_width": null,
            "object_fit": null,
            "object_position": null,
            "order": null,
            "overflow": null,
            "overflow_x": null,
            "overflow_y": null,
            "padding": null,
            "right": null,
            "top": null,
            "visibility": null,
            "width": "100%"
          }
        },
        "3005130f980c4ab7b2d5a085bb658261": {
          "model_module": "@jupyter-widgets/base",
          "model_name": "LayoutModel",
          "model_module_version": "1.2.0",
          "state": {
            "_model_module": "@jupyter-widgets/base",
            "_model_module_version": "1.2.0",
            "_model_name": "LayoutModel",
            "_view_count": null,
            "_view_module": "@jupyter-widgets/base",
            "_view_module_version": "1.2.0",
            "_view_name": "LayoutView",
            "align_content": null,
            "align_items": null,
            "align_self": null,
            "border": null,
            "bottom": null,
            "display": null,
            "flex": null,
            "flex_flow": null,
            "grid_area": null,
            "grid_auto_columns": null,
            "grid_auto_flow": null,
            "grid_auto_rows": null,
            "grid_column": null,
            "grid_gap": null,
            "grid_row": null,
            "grid_template_areas": null,
            "grid_template_columns": null,
            "grid_template_rows": null,
            "height": null,
            "justify_content": null,
            "justify_items": null,
            "left": null,
            "margin": null,
            "max_height": null,
            "max_width": null,
            "min_height": null,
            "min_width": null,
            "object_fit": null,
            "object_position": null,
            "order": null,
            "overflow": null,
            "overflow_x": null,
            "overflow_y": null,
            "padding": null,
            "right": null,
            "top": null,
            "visibility": null,
            "width": null
          }
        },
        "e33af82c818d4ed08135c4c59e41de85": {
          "model_module": "@jupyter-widgets/controls",
          "model_name": "DescriptionStyleModel",
          "model_module_version": "1.5.0",
          "state": {
            "_model_module": "@jupyter-widgets/controls",
            "_model_module_version": "1.5.0",
            "_model_name": "DescriptionStyleModel",
            "_view_count": null,
            "_view_module": "@jupyter-widgets/base",
            "_view_module_version": "1.2.0",
            "_view_name": "StyleView",
            "description_width": ""
          }
        },
        "281b50c20b794959a823345319926b81": {
          "model_module": "@jupyter-widgets/base",
          "model_name": "LayoutModel",
          "model_module_version": "1.2.0",
          "state": {
            "_model_module": "@jupyter-widgets/base",
            "_model_module_version": "1.2.0",
            "_model_name": "LayoutModel",
            "_view_count": null,
            "_view_module": "@jupyter-widgets/base",
            "_view_module_version": "1.2.0",
            "_view_name": "LayoutView",
            "align_content": null,
            "align_items": null,
            "align_self": null,
            "border": null,
            "bottom": null,
            "display": null,
            "flex": "2",
            "flex_flow": null,
            "grid_area": null,
            "grid_auto_columns": null,
            "grid_auto_flow": null,
            "grid_auto_rows": null,
            "grid_column": null,
            "grid_gap": null,
            "grid_row": null,
            "grid_template_areas": null,
            "grid_template_columns": null,
            "grid_template_rows": null,
            "height": null,
            "justify_content": null,
            "justify_items": null,
            "left": null,
            "margin": null,
            "max_height": null,
            "max_width": null,
            "min_height": null,
            "min_width": null,
            "object_fit": null,
            "object_position": null,
            "order": null,
            "overflow": null,
            "overflow_x": null,
            "overflow_y": null,
            "padding": null,
            "right": null,
            "top": null,
            "visibility": null,
            "width": null
          }
        },
        "6c0d445b92804a54afbd07e571961884": {
          "model_module": "@jupyter-widgets/controls",
          "model_name": "ProgressStyleModel",
          "model_module_version": "1.5.0",
          "state": {
            "_model_module": "@jupyter-widgets/controls",
            "_model_module_version": "1.5.0",
            "_model_name": "ProgressStyleModel",
            "_view_count": null,
            "_view_module": "@jupyter-widgets/base",
            "_view_module_version": "1.2.0",
            "_view_name": "StyleView",
            "bar_color": null,
            "description_width": ""
          }
        },
        "b673a59de14c4dd596986723353a0322": {
          "model_module": "@jupyter-widgets/base",
          "model_name": "LayoutModel",
          "model_module_version": "1.2.0",
          "state": {
            "_model_module": "@jupyter-widgets/base",
            "_model_module_version": "1.2.0",
            "_model_name": "LayoutModel",
            "_view_count": null,
            "_view_module": "@jupyter-widgets/base",
            "_view_module_version": "1.2.0",
            "_view_name": "LayoutView",
            "align_content": null,
            "align_items": null,
            "align_self": null,
            "border": null,
            "bottom": null,
            "display": null,
            "flex": null,
            "flex_flow": null,
            "grid_area": null,
            "grid_auto_columns": null,
            "grid_auto_flow": null,
            "grid_auto_rows": null,
            "grid_column": null,
            "grid_gap": null,
            "grid_row": null,
            "grid_template_areas": null,
            "grid_template_columns": null,
            "grid_template_rows": null,
            "height": null,
            "justify_content": null,
            "justify_items": null,
            "left": null,
            "margin": null,
            "max_height": null,
            "max_width": null,
            "min_height": null,
            "min_width": null,
            "object_fit": null,
            "object_position": null,
            "order": null,
            "overflow": null,
            "overflow_x": null,
            "overflow_y": null,
            "padding": null,
            "right": null,
            "top": null,
            "visibility": null,
            "width": null
          }
        },
        "49606453771944c89203cc3b1401101c": {
          "model_module": "@jupyter-widgets/controls",
          "model_name": "DescriptionStyleModel",
          "model_module_version": "1.5.0",
          "state": {
            "_model_module": "@jupyter-widgets/controls",
            "_model_module_version": "1.5.0",
            "_model_name": "DescriptionStyleModel",
            "_view_count": null,
            "_view_module": "@jupyter-widgets/base",
            "_view_module_version": "1.2.0",
            "_view_name": "StyleView",
            "description_width": ""
          }
        }
      }
    }
  },
  "nbformat": 4,
  "nbformat_minor": 0
}